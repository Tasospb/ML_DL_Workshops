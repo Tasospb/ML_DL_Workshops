{
 "cells": [
  {
   "cell_type": "code",
   "execution_count": null,
   "id": "f6d9d12d-c3dc-4a60-96fd-e5e9ca097edf",
   "metadata": {},
   "outputs": [],
   "source": [
    "from PIL import image\n",
    "\n",
    "image_path = 'C:\\Users\\tasos\\Documents\\GitHub\\ML_DL_Workshops\\Data\\cat.jpg'\n"
   ]
  }
 ],
 "metadata": {
  "kernelspec": {
   "display_name": "Python 3 (ipykernel)",
   "language": "python",
   "name": "python3"
  },
  "language_info": {
   "codemirror_mode": {
    "name": "ipython",
    "version": 3
   },
   "file_extension": ".py",
   "mimetype": "text/x-python",
   "name": "python",
   "nbconvert_exporter": "python",
   "pygments_lexer": "ipython3",
   "version": "3.12.7"
  }
 },
 "nbformat": 4,
 "nbformat_minor": 5
}
