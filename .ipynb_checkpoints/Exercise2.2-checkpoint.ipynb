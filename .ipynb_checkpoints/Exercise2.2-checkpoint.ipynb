{
 "cells": [
  {
   "cell_type": "code",
   "execution_count": 24,
   "id": "f6d9d12d-c3dc-4a60-96fd-e5e9ca097edf",
   "metadata": {},
   "outputs": [],
   "source": [
    "from PIL import Image\n",
    "image = Image.open(r\"C:\\Users\\tasos\\Documents\\GitHub\\ML_DL_Workshops\\Data\\cat.jpg\")\n",
    "image = image.crop((50,50,200,200))\n",
    "image.show()\n",
    "\n"
   ]
  },
  {
   "cell_type": "code",
   "execution_count": 29,
   "id": "e52095af-7281-45b0-83b6-643ec788fa14",
   "metadata": {},
   "outputs": [
    {
     "name": "stdout",
     "output_type": "stream",
     "text": [
      "Average RGB color: [118.13969429 117.19910035 104.03225543]\n"
     ]
    }
   ],
   "source": [
    "from PIL import Image\n",
    "image = Image.open(r\"C:\\Users\\tasos\\Documents\\GitHub\\ML_DL_Workshops\\Data\\cat.jpg\")\n",
    "# Calculate average color\n",
    "avg_color = np.mean(image, axis=(0, 1))\n",
    "print(f\"Average RGB color: {avg_color}\")\n"
   ]
  },
  {
   "cell_type": "code",
   "execution_count": 33,
   "id": "cdc44dff-46d7-4eac-a858-0d45c0a49af0",
   "metadata": {},
   "outputs": [
    {
     "name": "stdout",
     "output_type": "stream",
     "text": [
      "Average RGB color: [118.13969429 117.19910035 104.03225543]\n"
     ]
    }
   ],
   "source": [
    "from PIL import Image\n",
    "from PIL import Image\n",
    "import numpy as np\n",
    "\n",
    "image = Image.open(r\"C:\\Users\\tasos\\Documents\\GitHub\\ML_DL_Workshops\\Data\\cat.jpg\")\n",
    "\n",
    "# Convert image to numpy array first\n",
    "img_array = np.array(image)\n",
    "\n",
    "# Calculate average color\n",
    "avg_color = np.mean(img_array, axis=(0, 1))\n",
    "print(f\"Average RGB color: {avg_color}\")\n",
    "\n",
    "# Create brighter and darker versions\n",
    "brightness_factor_bright = 1.5  # Increase brightness by 50%\n",
    "brightness_factor_dark = 0.5    # Decrease brightness by 50%\n",
    "\n",
    "# Create brighter image\n",
    "brighter_img = Image.fromarray(np.clip(img_array * brightness_factor_bright, 0, 255).astype(np.uint8))\n",
    "\n",
    "# Save the brighter image\n",
    "brighter_img.save(\"cat_brighter.jpg\")\n",
    "\n",
    "# Display original and brighter image\n",
    "image.show(title=\"Original\")\n",
    "brighter_img.show(title=\"Brighter\")\n"
   ]
  }
 ],
 "metadata": {
  "kernelspec": {
   "display_name": "Python 3 (ipykernel)",
   "language": "python",
   "name": "python3"
  },
  "language_info": {
   "codemirror_mode": {
    "name": "ipython",
    "version": 3
   },
   "file_extension": ".py",
   "mimetype": "text/x-python",
   "name": "python",
   "nbconvert_exporter": "python",
   "pygments_lexer": "ipython3",
   "version": "3.12.7"
  }
 },
 "nbformat": 4,
 "nbformat_minor": 5
}
