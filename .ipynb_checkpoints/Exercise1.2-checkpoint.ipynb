{
 "cells": [
  {
   "cell_type": "code",
   "execution_count": 2,
   "id": "ea7bfe4d-3128-41b3-8a1e-89b949267ed0",
   "metadata": {},
   "outputs": [
    {
     "name": "stdout",
     "output_type": "stream",
     "text": [
      "Original list: [1, 2, 3, 1, 2, 4, 5, 3, 6, 6]\n",
      "Using loop method: [1, 2, 3, 4, 5, 6]\n",
      "Using set method: [1, 2, 3, 4, 5, 6]\n"
     ]
    }
   ],
   "source": [
    "def remove_duplicates_loop(lst):\n",
    "    result = []\n",
    "    for item in lst:\n",
    "        if item not in result:\n",
    "            result.append(item)\n",
    "    return result\n",
    "\n",
    "def remove_duplicates_set(lst):\n",
    "    return list(set(lst))\n",
    "\n",
    "def test_functions():\n",
    "    # Test list\n",
    "    test_list = [1, 2, 3, 1, 2, 4, 5, 3, 6, 6]\n",
    "    \n",
    "    # Test loop method\n",
    "    print(\"Original list:\", test_list)\n",
    "    print(\"Using loop method:\", remove_duplicates_loop(test_list))\n",
    "    print(\"Using set method:\", remove_duplicates_set(test_list))\n",
    "\n",
    "if __name__ == \"__main__\":\n",
    "    test_functions() "
   ]
  },
  {
   "cell_type": "code",
   "execution_count": null,
   "id": "a3a02f76-e3c1-47fb-8684-af6d6de9ad84",
   "metadata": {},
   "outputs": [],
   "source": []
  }
 ],
 "metadata": {
  "kernelspec": {
   "display_name": "Python 3 (ipykernel)",
   "language": "python",
   "name": "python3"
  },
  "language_info": {
   "codemirror_mode": {
    "name": "ipython",
    "version": 3
   },
   "file_extension": ".py",
   "mimetype": "text/x-python",
   "name": "python",
   "nbconvert_exporter": "python",
   "pygments_lexer": "ipython3",
   "version": "3.12.7"
  }
 },
 "nbformat": 4,
 "nbformat_minor": 5
}
